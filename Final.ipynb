{
 "cells": [
  {
   "cell_type": "code",
   "execution_count": 2,
   "id": "0639e7e8-ca0c-43c0-8eb1-29f0a41b4d2f",
   "metadata": {},
   "outputs": [],
   "source": [
    "import pandas as pd\n",
    "import pymongo"
   ]
  },
  {
   "cell_type": "code",
   "execution_count": 3,
   "id": "69593a04-21b4-4581-9931-3160b7274dc8",
   "metadata": {},
   "outputs": [],
   "source": [
    "df = pd.read_json('oracle-cards.json')"
   ]
  },
  {
   "cell_type": "code",
   "execution_count": 75,
   "id": "a65eca1b-d649-4360-8caf-e5402233ffa5",
   "metadata": {},
   "outputs": [
    {
     "data": {
      "text/plain": [
       "'Resurgent Belief'"
      ]
     },
     "execution_count": 75,
     "metadata": {},
     "output_type": "execute_result"
    }
   ],
   "source": [
    "df['color_indicator'].dropna()\n",
    "df.iloc[1866][\"name\"]"
   ]
  },
  {
   "cell_type": "code",
   "execution_count": 85,
   "id": "d9ec8899-fcc1-4490-805b-ca82c7a5e831",
   "metadata": {},
   "outputs": [
    {
     "data": {
      "text/plain": [
       "Index(['oracle_id', 'name', 'released_at', 'layout', 'mana_cost', 'cmc',\n",
       "       'type_line', 'oracle_text', 'colors', 'color_identity', 'keywords',\n",
       "       'legalities', 'games', 'reserved', 'foil', 'nonfoil', 'set', 'set_name',\n",
       "       'set_type', 'rarity', 'flavor_text', 'artist', 'border_color', 'frame',\n",
       "       'power', 'toughness', 'loyalty'],\n",
       "      dtype='object')"
      ]
     },
     "execution_count": 85,
     "metadata": {},
     "output_type": "execute_result"
    }
   ],
   "source": [
    "keep = ['oracle_id', 'name', 'released_at', 'layout', 'mana_cost', 'cmc', 'type_line', 'oracle_text', 'colors', 'color_identity', 'keywords', 'legalities', 'games', 'reserved', 'foil', 'nonfoil', 'set', 'set_name', 'set_type', 'rarity', 'flavor_text', 'artist', 'border_color', 'frame', 'power', 'toughness', 'loyalty']\n",
    "for item in df.columns:\n",
    "    if item not in keep:\n",
    "        df = df.drop(item, axis=1)\n",
    "df.columns"
   ]
  },
  {
   "cell_type": "code",
   "execution_count": 86,
   "id": "20617a04-0825-4b75-bdcb-1b1d61ffe981",
   "metadata": {},
   "outputs": [],
   "source": [
    "df.to_csv('mtgdata.csv', index=False)"
   ]
  }
 ],
 "metadata": {
  "kernelspec": {
   "display_name": "Python 3 (ipykernel)",
   "language": "python",
   "name": "python3"
  },
  "language_info": {
   "codemirror_mode": {
    "name": "ipython",
    "version": 3
   },
   "file_extension": ".py",
   "mimetype": "text/x-python",
   "name": "python",
   "nbconvert_exporter": "python",
   "pygments_lexer": "ipython3",
   "version": "3.11.6"
  }
 },
 "nbformat": 4,
 "nbformat_minor": 5
}
